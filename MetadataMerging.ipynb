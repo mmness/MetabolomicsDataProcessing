{
 "cells": [
  {
   "cell_type": "code",
   "execution_count": 1,
   "id": "bfaf24c4-c04f-4a5f-9fe2-92a47eb0c1e3",
   "metadata": {},
   "outputs": [],
   "source": [
    "#read in files from format checking step for this to work\n",
    "metadata<-read.table(\"correctedmetadata.txt\", sep=\"\\t\", header = TRUE)\n",
    "featureTable<-read.table(\"correctedfeatlist.txt\", sep=\"\\t\", header = TRUE)"
   ]
  },
  {
   "cell_type": "code",
   "execution_count": 2,
   "id": "2b8b23ec-6821-4c05-9d2d-28085aa8503a",
   "metadata": {},
   "outputs": [],
   "source": [
    "merged_data <- merge(metadata, featureTable, by=\"sampleid\", all=TRUE)"
   ]
  },
  {
   "cell_type": "code",
   "execution_count": 3,
   "id": "8a09b3ad-779e-43b8-8b05-c3ea4c8e6ff4",
   "metadata": {},
   "outputs": [],
   "source": [
    "write.csv(merged_data, \"mergeddata.csv\", row.names = FALSE, na=\"NA\")"
   ]
  },
  {
   "cell_type": "code",
   "execution_count": null,
   "id": "0b9c9082-fbc9-413e-beb9-81745e78d704",
   "metadata": {},
   "outputs": [],
   "source": []
  }
 ],
 "metadata": {
  "kernelspec": {
   "display_name": "R",
   "language": "R",
   "name": "ir"
  },
  "language_info": {
   "codemirror_mode": "r",
   "file_extension": ".r",
   "mimetype": "text/x-r-source",
   "name": "R",
   "pygments_lexer": "r",
   "version": "4.1.3"
  }
 },
 "nbformat": 4,
 "nbformat_minor": 5
}
