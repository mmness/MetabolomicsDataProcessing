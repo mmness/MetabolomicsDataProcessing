{
 "cells": [
  {
   "cell_type": "code",
   "execution_count": 16,
   "id": "ebdf3540",
   "metadata": {},
   "outputs": [],
   "source": [
    "#TIC normalization\n",
    "#works with MZMine output format, or the format used for my eariler blank removal output\n",
    "\n",
    "table<-read.csv(\"quant.csv\")"
   ]
  },
  {
   "cell_type": "code",
   "execution_count": 17,
   "id": "68403e8d",
   "metadata": {},
   "outputs": [],
   "source": [
    "norm_table<- apply(table[, -(1:3)], 2, function(x) x / sum(x) )\n",
    "norm_table<-cbind(table[,1:3], norm_table)\n",
    "norm_table <- norm_table[, names(norm_table) != \"X\"]                   \n",
    "#first line, divides each cell by the sum of each column (two indicates column sum, not row). excludes first 3 columns of feature CI, mz, rt\n",
    "#second line adds back in the 3 columns\n",
    "#3rd line makes sure the \"X\" column artifact doesn't stay"
   ]
  },
  {
   "cell_type": "code",
   "execution_count": 18,
   "id": "56db3294",
   "metadata": {},
   "outputs": [
    {
     "name": "stdout",
     "output_type": "stream",
     "text": [
      "[1] 0\n",
      "[1] 1\n"
     ]
    }
   ],
   "source": [
    "print(sum(is.na(norm_table))) # checks that no NA values popped up\n",
    "print(min(colSums(norm_table[, -(1:3)]))) #should be 1 or theres a problem"
   ]
  },
  {
   "cell_type": "code",
   "execution_count": 19,
   "id": "15cfed7c-ac78-4ce9-a328-67b16abbe301",
   "metadata": {},
   "outputs": [],
   "source": [
    "write.csv(norm_table, \"normalized_feattable.csv\", row.names = FALSE) #name what you want but keep .csv"
   ]
  },
  {
   "cell_type": "code",
   "execution_count": null,
   "id": "cdfba558-acea-474a-9a17-299f76573c28",
   "metadata": {},
   "outputs": [],
   "source": []
  }
 ],
 "metadata": {
  "kernelspec": {
   "display_name": "R",
   "language": "R",
   "name": "ir"
  },
  "language_info": {
   "codemirror_mode": "r",
   "file_extension": ".r",
   "mimetype": "text/x-r-source",
   "name": "R",
   "pygments_lexer": "r",
   "version": "4.1.3"
  }
 },
 "nbformat": 4,
 "nbformat_minor": 5
}
