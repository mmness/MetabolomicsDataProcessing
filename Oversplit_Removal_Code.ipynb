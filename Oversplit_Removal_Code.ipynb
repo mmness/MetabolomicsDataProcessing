{
 "cells": [
  {
   "cell_type": "code",
   "execution_count": 11,
   "id": "62cdc8a6",
   "metadata": {},
   "outputs": [],
   "source": [
    "#works with the quant file directly from MZMine\n",
    "feat<-read.csv(\"quant.csv\") #add in your quantfile name\n",
    "\n",
    "#adjust these numbers\n",
    "mz_tol<-0.001\n",
    "rt_tol<-0.2 #set to what you used in MZMine\n",
    "oversplit_num<-4 #lower if you want more removed"
   ]
  },
  {
   "cell_type": "code",
   "execution_count": 12,
   "id": "9bd93157",
   "metadata": {},
   "outputs": [],
   "source": [
    "#you dont have to change anything here\n",
    "feat$row.m.z<-round(feat$row.m.z, 4) \n",
    "feat$row.retention.time<-round(feat$row.retention.time, 2) \n",
    "mz_table<-as.data.frame(  table(feat$row.m.z)  )\n",
    "potential_oversplits<-mz_table[mz_table$Freq > oversplit_num,]\n",
    "potential_mz_forremov<-as.vector(potential_oversplits$Var1)\n",
    "#these lines ID the potential oversplit MZs and saves them into the \"potential_mz_forremov\" vector. \n",
    "#If an MZ repeats more than the \"oversplit num\" set above, it gets saved into the vector\n",
    "CIs_to_drop<-numeric()\n",
    "for (i in 1:length(potential_mz_forremov)) {\n",
    "  mz<-subset(feat, feat$row.m.z<=as.numeric(potential_mz_forremov[i])+mz_tol & feat$row.m.z>=as.numeric(potential_mz_forremov[i])-mz_tol)\n",
    "  rt_sorted<-mz[order(mz$row.retention.time),]\n",
    "  for (j in 2:nrow(rt_sorted)){\n",
    "    dif<-rt_sorted$row.retention.time[j]-rt_sorted$row.retention.time[j-1]\n",
    "    if (dif < rt_tol){\n",
    "      CIs_to_drop<-c(CIs_to_drop, rt_sorted$row.ID[j])}}}\n",
    "CIs_to_drop<-unique(CIs_to_drop)\n",
    "cleaned_data<- subset(feat, !(row.ID %in% CIs_to_drop))\n",
    "cleaned_data <- cleaned_data[, names(cleaned_data) != \"X\"]\n",
    "\n",
    "#explaination of the nested-for-loop:The outer loop subsets the dataset with just a \"potential mz for oversplit\" value +/- the mz tolerance\n",
    "#the subsetted dataset is sorted from low to high by RT value\n",
    "#the inner loop finds the difference between each RT value, if the difference between the two is less than the \"rt_tol\" set above, the feature CI is saved in the \"CIs to drop\" vector\n"
   ]
  },
  {
   "cell_type": "code",
   "execution_count": 13,
   "id": "0481ee53",
   "metadata": {},
   "outputs": [],
   "source": [
    "#if it gives an error that says: \"(dif < rt_tol) { : missing value where TRUE/FALSE needed\". lower the oversplit_num. It means nothing has been flagged as oversplit"
   ]
  },
  {
   "cell_type": "code",
   "execution_count": 14,
   "id": "fe7c99b3",
   "metadata": {},
   "outputs": [
    {
     "data": {
      "text/html": [
       "1"
      ],
      "text/latex": [
       "1"
      ],
      "text/markdown": [
       "1"
      ],
      "text/plain": [
       "[1] 1"
      ]
     },
     "metadata": {},
     "output_type": "display_data"
    }
   ],
   "source": [
    "length(CIs_to_drop) #how many values are removed"
   ]
  },
  {
   "cell_type": "code",
   "execution_count": 15,
   "id": "a1b22bfd",
   "metadata": {},
   "outputs": [],
   "source": [
    "#data output line. put whatever name you want in\n",
    "write.csv(cleaned_data, \"OSremoved_quant.csv\", row.names = FALSE) #make sure to keep .csv at end"
   ]
  },
  {
   "cell_type": "code",
   "execution_count": null,
   "id": "37300e3f-6f5c-434b-84c3-6408c7172d98",
   "metadata": {},
   "outputs": [],
   "source": []
  }
 ],
 "metadata": {
  "kernelspec": {
   "display_name": "R",
   "language": "R",
   "name": "ir"
  },
  "language_info": {
   "codemirror_mode": "r",
   "file_extension": ".r",
   "mimetype": "text/x-r-source",
   "name": "R",
   "pygments_lexer": "r",
   "version": "4.1.3"
  }
 },
 "nbformat": 4,
 "nbformat_minor": 5
}
