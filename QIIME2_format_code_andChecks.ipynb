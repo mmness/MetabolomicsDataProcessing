{
 "cells": [
  {
   "cell_type": "code",
   "execution_count": 25,
   "id": "111bca52",
   "metadata": {},
   "outputs": [],
   "source": [
    "table<-read.csv(\"feattable.csv\")"
   ]
  },
  {
   "cell_type": "code",
   "execution_count": 26,
   "id": "59825297-1a4a-44a9-814d-2ada21363332",
   "metadata": {},
   "outputs": [],
   "source": [
    "#dont change things here\n",
    "table$row.m.z<-round(table$row.m.z, 4) \n",
    "table$row.retention.time<-round(table$row.retention.time, 2) \n",
    "sampleid <-numeric()\n",
    "for(i in 1:nrow(table)){\n",
    "  id<-c(table$row.m.z[i], table$row.retention.time[i], table$row.ID[i])\n",
    "  nums<-c(\"X\", paste(id, collapse = \"_\"))\n",
    "  sampleid[i]<-paste(nums, collapse = \"\")\n",
    "}\n",
    "tab.w.id<-cbind(sampleid, table[, -(1:3)])\n",
    "names(tab.w.id) <- sub(\".mzML.Peak.area|.mzXML.Peak.area\", \"\", names(tab.w.id))\n",
    "trans<-t(tab.w.id)\n",
    "rownames(trans)[1] <- \"sampleid\"\n",
    "trans<-cbind(row.names(trans), trans)\n",
    "colnames(trans)<-trans[1,]\n",
    "trans<-trans[-1,]\n",
    "trans[is.na(trans)] <- 0     #this replaces any \"NA\" output with zero \n",
    "trans <- trans[rownames(trans) != \"X|X.\", ]\n",
    "#removes .mzML Peak Area from file name, removes old feature columns, adds in mz_RT_CI format for feature, transposes"
   ]
  },
  {
   "cell_type": "code",
   "execution_count": 27,
   "id": "821ce8f3-9af3-48db-8c06-f1db3ab4c4fb",
   "metadata": {},
   "outputs": [],
   "source": [
    "write.table(trans, \"FeatureTable_QiimeFormat.txt\", row.names = FALSE, sep = \"\\t\", na=\"\") #make sure its .txt. NOT .csv"
   ]
  },
  {
   "cell_type": "code",
   "execution_count": 28,
   "id": "c4b0d42b-c27b-43c5-86f7-40a23c0dff55",
   "metadata": {},
   "outputs": [],
   "source": [
    "#now.. optional checking to make sure the Permanova job doesn't fail"
   ]
  },
  {
   "cell_type": "code",
   "execution_count": 29,
   "id": "4590caee-5b14-4322-92d4-0e2b8f343660",
   "metadata": {},
   "outputs": [],
   "source": [
    "meta<-read.csv(\"metadata.csv\") #input metadata .csv\n",
    "trans<-read.table(\"FeatureTable_QiimeFormat.txt\", sep=\"\\t\", header = TRUE) #from previous step"
   ]
  },
  {
   "cell_type": "code",
   "execution_count": 30,
   "id": "7ca43692-3a15-463c-982b-2004d526ea09",
   "metadata": {},
   "outputs": [
    {
     "name": "stdout",
     "output_type": "stream",
     "text": [
      "Unique to Metadata file:  \n",
      "Unique to Featlist file:  \n"
     ]
    }
   ],
   "source": [
    "##part 1##\n",
    "names(meta)[1] <- \"sampleid\"\n",
    "metasamps<-as.vector(meta$sampleid) \n",
    "featlist_samples<-trans[ ,1]\n",
    "unique_to_meta <- setdiff(metasamps, featlist_samples)\n",
    "cat(\"Unique to Metadata file:\", unique_to_meta, \"\\n\")\n",
    "unique_to_featlist <- setdiff(featlist_samples, metasamps)\n",
    "cat(\"Unique to Featlist file:\", unique_to_featlist, \"\\n\")\n",
    "#prints the filenames that dont have matches in the other file. does not work if one file has an exact duplicate\n",
    "#youll have to edit the excel file if names are printed\n"
   ]
  },
  {
   "cell_type": "code",
   "execution_count": 31,
   "id": "43100fb1-ccf3-4317-b55a-148fa76377bd",
   "metadata": {},
   "outputs": [
    {
     "data": {
      "text/html": [
       "6"
      ],
      "text/latex": [
       "6"
      ],
      "text/markdown": [
       "6"
      ],
      "text/plain": [
       "[1] 6"
      ]
     },
     "metadata": {},
     "output_type": "display_data"
    },
    {
     "data": {
      "text/html": [
       "6"
      ],
      "text/latex": [
       "6"
      ],
      "text/markdown": [
       "6"
      ],
      "text/plain": [
       "[1] 6"
      ]
     },
     "metadata": {},
     "output_type": "display_data"
    }
   ],
   "source": [
    "##part 2##\n",
    "#making sure engths are equal\n",
    "length(metasamps)\n",
    "length(featlist_samples)\n"
   ]
  },
  {
   "cell_type": "code",
   "execution_count": 32,
   "id": "e33c8b89-6ff5-45bc-b6d7-acbd98e21bdf",
   "metadata": {},
   "outputs": [
    {
     "name": "stdout",
     "output_type": "stream",
     "text": [
      "No duplicate values found in featlist\n"
     ]
    }
   ],
   "source": [
    "##part3##\n",
    "#checking for duplicates in featlist\n",
    "duplicatesf <- duplicated(featlist_samples)\n",
    "duplicate_valuesf <- unique(featlist_samples[duplicatesf])\n",
    "if (any(duplicatesf)) {\n",
    "  cat(\"Duplicate values found in featlist:\", duplicate_valuesf, \"\\n\")\n",
    "} else {cat(\"No duplicate values found in featlist\\n\")}\n"
   ]
  },
  {
   "cell_type": "code",
   "execution_count": 33,
   "id": "5e5f53c6-e30d-4f14-a6ec-f427619482c2",
   "metadata": {},
   "outputs": [
    {
     "name": "stdout",
     "output_type": "stream",
     "text": [
      "No duplicate values found in metadata\n"
     ]
    }
   ],
   "source": [
    "##part 4##\n",
    "#checking for duplicates in metadata\n",
    "duplicatesm <- duplicated(metasamps)\n",
    "duplicate_valuesm <- unique(metasamps[duplicatesm])\n",
    "if (any(duplicatesm)) {\n",
    "  cat(\"Duplicate values found in metadata:\", duplicate_valuesm, \"\\n\")\n",
    "} else {cat(\"No duplicate values found in metadata\\n\")}"
   ]
  },
  {
   "cell_type": "code",
   "execution_count": 34,
   "id": "2616c3a3-cf98-4efc-b5bf-ff90b5bbe779",
   "metadata": {},
   "outputs": [
    {
     "data": {
      "text/html": [],
      "text/latex": [],
      "text/markdown": [],
      "text/plain": [
       "character(0)"
      ]
     },
     "metadata": {},
     "output_type": "display_data"
    },
    {
     "data": {
      "text/html": [
       "0"
      ],
      "text/latex": [
       "0"
      ],
      "text/markdown": [
       "0"
      ],
      "text/plain": [
       "[1] 0"
      ]
     },
     "metadata": {},
     "output_type": "display_data"
    }
   ],
   "source": [
    "##part 5##\n",
    "#only works if cells above have found no issues\n",
    "#Qiime comes up with errors if one of the samples has no features present.(sum of 0)\n",
    "#This code IDs the samples with a total row sum of zero, then deletes that sample from both the feature list and the metadata\n",
    "rowsums<-numeric()\n",
    "for(i in 1:nrow(trans)){\n",
    "  sum<-sum(as.numeric(trans[i, 2:ncol(trans)]))\n",
    "  rowsums[i]<-round(sum)\n",
    "}\n",
    "dftrans<-as.data.frame(trans)\n",
    "dfsums<-as.data.frame(cbind(rownames(dftrans), rowsums))\n",
    "samp_to_remov<- dfsums$V1[dfsums$rowsums == 0]\n",
    "featlist_filtered<- trans[!(dftrans$sampleid %in% samp_to_remov), ]\n",
    "metadata_filtered<- meta[!(meta$sampleid %in% samp_to_remov), ]\n",
    "\n",
    "##part 6##\n",
    "#this prints results of the cell. it will print the sample names that have been removed(it will likely be blanks)\n",
    "#Then the length() function tells you how many.\n",
    "dfsums$V1[dfsums$rowsums == 0]\n",
    "length(dfsums$V1[dfsums$rowsums == 0])"
   ]
  },
  {
   "cell_type": "code",
   "execution_count": 35,
   "id": "24224679-63c0-4c08-97e7-be225d829bea",
   "metadata": {},
   "outputs": [],
   "source": [
    "#export. keep the .txt\n",
    "write.table(featlist_filtered, \"correctedfeatlist.txt\", row.names = FALSE, sep = \"\\t\", na=\"\")\n",
    "write.table(metadata_filtered, \"correctedmetadata.txt\", row.names = FALSE, sep = \"\\t\", na=\"\")\n"
   ]
  },
  {
   "cell_type": "code",
   "execution_count": 15,
   "id": "62cd4b74-990a-43df-9699-af5d5f7cbb19",
   "metadata": {},
   "outputs": [],
   "source": [
    "#Another optional section- if you want to subset your data, heres a few ways to do it\n",
    "\n",
    "#!!!!!!!!!!!!!!!!!!!!!!!!!!!!!!!!!!!!!!!!!!!\n",
    "#!Do not run everything..choose what you want to change about your table. then choose one of the pre-made codes to run. \n",
    "#make sure to check your files to make sure "
   ]
  },
  {
   "cell_type": "code",
   "execution_count": 36,
   "id": "f2c33dc6-d885-4d7e-a277-48729affd677",
   "metadata": {},
   "outputs": [],
   "source": [
    "#input the metadata and feature table from the format checking output\n",
    "metadata<-read.table(\"correctedmetadata.txt\", sep=\"\\t\", header = TRUE)\n",
    "featureTable<-read.table(\"correctedfeatlist.txt\", sep=\"\\t\", header = TRUE)\n"
   ]
  },
  {
   "cell_type": "code",
   "execution_count": 37,
   "id": "56f20084-29b6-4b86-a946-802b7ee4c683",
   "metadata": {},
   "outputs": [],
   "source": [
    "#if you want to drop sections. #change to whatever pattern you want in the sample names. This line is case sensitive. \n",
    "to_drop <- \"blank|Blank|BLANK|QC|Qc|qc|6mix\" #change this line\n",
    "featTable_filtered <- subset(featureTable, !grepl(to_drop, sampleid, ignore.case = TRUE))\n",
    "metadata_filtered <- subset(metadata, metadata$sampleid %in% featTable_filtered$sampleid)"
   ]
  },
  {
   "cell_type": "code",
   "execution_count": 21,
   "id": "6ad98a4d-0f3a-4f9b-b716-106745dc369d",
   "metadata": {},
   "outputs": [],
   "source": [
    "#if you only want to include 1 group from metadata\n",
    "metadata_filtered <- metadata[metadata$organ == \"heart\", ] #change this to your column name and group you want to keep\n",
    "featTable_filtered <- subset(featureTable, featureTable$sampleid %in% metadata_filtered$sampleid )"
   ]
  },
  {
   "cell_type": "code",
   "execution_count": 38,
   "id": "5ea3d9cd-69b5-40bf-a7f1-2531871337a4",
   "metadata": {},
   "outputs": [
    {
     "data": {
      "text/html": [
       "<table class=\"dataframe\">\n",
       "<caption>A data.frame: 5 × 4</caption>\n",
       "<thead>\n",
       "\t<tr><th></th><th scope=col>sampleid</th><th scope=col>type</th><th scope=col>group</th><th scope=col>batch</th></tr>\n",
       "\t<tr><th></th><th scope=col>&lt;chr&gt;</th><th scope=col>&lt;chr&gt;</th><th scope=col>&lt;chr&gt;</th><th scope=col>&lt;chr&gt;</th></tr>\n",
       "</thead>\n",
       "<tbody>\n",
       "\t<tr><th scope=row>1</th><td>SampleB3</td><td>sample</td><td>infected  </td><td>A</td></tr>\n",
       "\t<tr><th scope=row>3</th><td>SampleB4</td><td>sample</td><td>uninfected</td><td>B</td></tr>\n",
       "\t<tr><th scope=row>4</th><td>SampleB5</td><td>sample</td><td>uninfected</td><td>B</td></tr>\n",
       "\t<tr><th scope=row>5</th><td>SampleB2</td><td>sample</td><td>infected  </td><td>A</td></tr>\n",
       "\t<tr><th scope=row>6</th><td>SampleB1</td><td>sample</td><td>infected  </td><td>A</td></tr>\n",
       "</tbody>\n",
       "</table>\n"
      ],
      "text/latex": [
       "A data.frame: 5 × 4\n",
       "\\begin{tabular}{r|llll}\n",
       "  & sampleid & type & group & batch\\\\\n",
       "  & <chr> & <chr> & <chr> & <chr>\\\\\n",
       "\\hline\n",
       "\t1 & SampleB3 & sample & infected   & A\\\\\n",
       "\t3 & SampleB4 & sample & uninfected & B\\\\\n",
       "\t4 & SampleB5 & sample & uninfected & B\\\\\n",
       "\t5 & SampleB2 & sample & infected   & A\\\\\n",
       "\t6 & SampleB1 & sample & infected   & A\\\\\n",
       "\\end{tabular}\n"
      ],
      "text/markdown": [
       "\n",
       "A data.frame: 5 × 4\n",
       "\n",
       "| <!--/--> | sampleid &lt;chr&gt; | type &lt;chr&gt; | group &lt;chr&gt; | batch &lt;chr&gt; |\n",
       "|---|---|---|---|---|\n",
       "| 1 | SampleB3 | sample | infected   | A |\n",
       "| 3 | SampleB4 | sample | uninfected | B |\n",
       "| 4 | SampleB5 | sample | uninfected | B |\n",
       "| 5 | SampleB2 | sample | infected   | A |\n",
       "| 6 | SampleB1 | sample | infected   | A |\n",
       "\n"
      ],
      "text/plain": [
       "  sampleid type   group      batch\n",
       "1 SampleB3 sample infected   A    \n",
       "3 SampleB4 sample uninfected B    \n",
       "4 SampleB5 sample uninfected B    \n",
       "5 SampleB2 sample infected   A    \n",
       "6 SampleB1 sample infected   A    "
      ]
     },
     "metadata": {},
     "output_type": "display_data"
    },
    {
     "data": {
      "text/html": [
       "<table class=\"dataframe\">\n",
       "<caption>A data.frame: 5 × 700</caption>\n",
       "<thead>\n",
       "\t<tr><th></th><th scope=col>sampleid</th><th scope=col>X255.233_1.32_1</th><th scope=col>X283.2643_1.3_2</th><th scope=col>X475.1898_5.06_3</th><th scope=col>X477.2102_1.29_4</th><th scope=col>X218.1034_4.27_5</th><th scope=col>X497.1717_5.05_6</th><th scope=col>X307.1124_1.45_7</th><th scope=col>X783.3523_1.36_8</th><th scope=col>X277.2174_1.15_9</th><th scope=col>...</th><th scope=col>X118.9421_8.84_719</th><th scope=col>X184.8586_6.52_722</th><th scope=col>X210.8424_2.5_723</th><th scope=col>X212.0751_11.97_726</th><th scope=col>X245.0546_6.32_728</th><th scope=col>X152.8806_2.07_730</th><th scope=col>X112.9857_6.93_734</th><th scope=col>X246.0573_4.47_736</th><th scope=col>X246.0573_4.13_737</th><th scope=col>X212.0751_10.45_740</th></tr>\n",
       "\t<tr><th></th><th scope=col>&lt;chr&gt;</th><th scope=col>&lt;dbl&gt;</th><th scope=col>&lt;dbl&gt;</th><th scope=col>&lt;dbl&gt;</th><th scope=col>&lt;dbl&gt;</th><th scope=col>&lt;dbl&gt;</th><th scope=col>&lt;dbl&gt;</th><th scope=col>&lt;dbl&gt;</th><th scope=col>&lt;dbl&gt;</th><th scope=col>&lt;dbl&gt;</th><th scope=col>...</th><th scope=col>&lt;dbl&gt;</th><th scope=col>&lt;dbl&gt;</th><th scope=col>&lt;dbl&gt;</th><th scope=col>&lt;dbl&gt;</th><th scope=col>&lt;dbl&gt;</th><th scope=col>&lt;dbl&gt;</th><th scope=col>&lt;dbl&gt;</th><th scope=col>&lt;dbl&gt;</th><th scope=col>&lt;dbl&gt;</th><th scope=col>&lt;dbl&gt;</th></tr>\n",
       "</thead>\n",
       "<tbody>\n",
       "\t<tr><th scope=row>1</th><td>SampleB3</td><td>0.08467591</td><td>0.05174543</td><td>7.858401e-02</td><td>0.02124733</td><td>0.03478147</td><td>5.578356e-02</td><td>0.02383133</td><td>0.011127700</td><td>0.010856360</td><td>...</td><td>0.0000000000</td><td>0.0000000000</td><td>0.000000000</td><td>0.0000000000</td><td>0.000000e+00</td><td>0.000000e+00</td><td>0.000000000</td><td>0.000000000</td><td>0.000000000</td><td>0.000000000</td></tr>\n",
       "\t<tr><th scope=row>2</th><td>SampleB4</td><td>0.09763448</td><td>0.07680741</td><td>1.002592e-01</td><td>0.01274640</td><td>0.00000000</td><td>4.876361e-02</td><td>0.02257547</td><td>0.006292860</td><td>0.011635870</td><td>...</td><td>0.0000000000</td><td>0.0000000000</td><td>0.000000000</td><td>0.0000000000</td><td>0.000000e+00</td><td>0.000000e+00</td><td>0.000000000</td><td>0.000000000</td><td>0.000000000</td><td>0.000000000</td></tr>\n",
       "\t<tr><th scope=row>3</th><td>SampleB5</td><td>0.09633782</td><td>0.05373095</td><td>2.023849e-05</td><td>0.01305176</td><td>0.00000000</td><td>5.844279e-05</td><td>0.00000000</td><td>0.006540454</td><td>0.000000000</td><td>...</td><td>0.0000000000</td><td>0.0000000000</td><td>0.000000000</td><td>0.0000000000</td><td>0.000000e+00</td><td>0.000000e+00</td><td>0.000000000</td><td>0.000000000</td><td>0.000000000</td><td>0.000000000</td></tr>\n",
       "\t<tr><th scope=row>4</th><td>SampleB2</td><td>0.06999471</td><td>0.05893756</td><td>1.173058e-01</td><td>0.01053842</td><td>0.00000000</td><td>0.000000e+00</td><td>0.01977300</td><td>0.004336383</td><td>0.005285657</td><td>...</td><td>0.0004270462</td><td>0.0010981930</td><td>0.001203776</td><td>0.0006102965</td><td>1.382095e-05</td><td>1.232620e-05</td><td>0.000000000</td><td>0.000000000</td><td>0.000000000</td><td>0.000000000</td></tr>\n",
       "\t<tr><th scope=row>5</th><td>SampleB1</td><td>0.08281807</td><td>0.04886171</td><td>5.897701e-02</td><td>0.01721257</td><td>0.02253764</td><td>8.800301e-02</td><td>0.00000000</td><td>0.005830865</td><td>0.009354129</td><td>...</td><td>0.0003728453</td><td>0.0002251345</td><td>0.001601254</td><td>0.0009127267</td><td>6.674082e-05</td><td>2.616419e-05</td><td>0.001719821</td><td>0.003357335</td><td>0.001841044</td><td>0.001059833</td></tr>\n",
       "</tbody>\n",
       "</table>\n"
      ],
      "text/latex": [
       "A data.frame: 5 × 700\n",
       "\\begin{tabular}{r|lllllllllllllllllllll}\n",
       "  & sampleid & X255.233\\_1.32\\_1 & X283.2643\\_1.3\\_2 & X475.1898\\_5.06\\_3 & X477.2102\\_1.29\\_4 & X218.1034\\_4.27\\_5 & X497.1717\\_5.05\\_6 & X307.1124\\_1.45\\_7 & X783.3523\\_1.36\\_8 & X277.2174\\_1.15\\_9 & ... & X118.9421\\_8.84\\_719 & X184.8586\\_6.52\\_722 & X210.8424\\_2.5\\_723 & X212.0751\\_11.97\\_726 & X245.0546\\_6.32\\_728 & X152.8806\\_2.07\\_730 & X112.9857\\_6.93\\_734 & X246.0573\\_4.47\\_736 & X246.0573\\_4.13\\_737 & X212.0751\\_10.45\\_740\\\\\n",
       "  & <chr> & <dbl> & <dbl> & <dbl> & <dbl> & <dbl> & <dbl> & <dbl> & <dbl> & <dbl> & ... & <dbl> & <dbl> & <dbl> & <dbl> & <dbl> & <dbl> & <dbl> & <dbl> & <dbl> & <dbl>\\\\\n",
       "\\hline\n",
       "\t1 & SampleB3 & 0.08467591 & 0.05174543 & 7.858401e-02 & 0.02124733 & 0.03478147 & 5.578356e-02 & 0.02383133 & 0.011127700 & 0.010856360 & ... & 0.0000000000 & 0.0000000000 & 0.000000000 & 0.0000000000 & 0.000000e+00 & 0.000000e+00 & 0.000000000 & 0.000000000 & 0.000000000 & 0.000000000\\\\\n",
       "\t2 & SampleB4 & 0.09763448 & 0.07680741 & 1.002592e-01 & 0.01274640 & 0.00000000 & 4.876361e-02 & 0.02257547 & 0.006292860 & 0.011635870 & ... & 0.0000000000 & 0.0000000000 & 0.000000000 & 0.0000000000 & 0.000000e+00 & 0.000000e+00 & 0.000000000 & 0.000000000 & 0.000000000 & 0.000000000\\\\\n",
       "\t3 & SampleB5 & 0.09633782 & 0.05373095 & 2.023849e-05 & 0.01305176 & 0.00000000 & 5.844279e-05 & 0.00000000 & 0.006540454 & 0.000000000 & ... & 0.0000000000 & 0.0000000000 & 0.000000000 & 0.0000000000 & 0.000000e+00 & 0.000000e+00 & 0.000000000 & 0.000000000 & 0.000000000 & 0.000000000\\\\\n",
       "\t4 & SampleB2 & 0.06999471 & 0.05893756 & 1.173058e-01 & 0.01053842 & 0.00000000 & 0.000000e+00 & 0.01977300 & 0.004336383 & 0.005285657 & ... & 0.0004270462 & 0.0010981930 & 0.001203776 & 0.0006102965 & 1.382095e-05 & 1.232620e-05 & 0.000000000 & 0.000000000 & 0.000000000 & 0.000000000\\\\\n",
       "\t5 & SampleB1 & 0.08281807 & 0.04886171 & 5.897701e-02 & 0.01721257 & 0.02253764 & 8.800301e-02 & 0.00000000 & 0.005830865 & 0.009354129 & ... & 0.0003728453 & 0.0002251345 & 0.001601254 & 0.0009127267 & 6.674082e-05 & 2.616419e-05 & 0.001719821 & 0.003357335 & 0.001841044 & 0.001059833\\\\\n",
       "\\end{tabular}\n"
      ],
      "text/markdown": [
       "\n",
       "A data.frame: 5 × 700\n",
       "\n",
       "| <!--/--> | sampleid &lt;chr&gt; | X255.233_1.32_1 &lt;dbl&gt; | X283.2643_1.3_2 &lt;dbl&gt; | X475.1898_5.06_3 &lt;dbl&gt; | X477.2102_1.29_4 &lt;dbl&gt; | X218.1034_4.27_5 &lt;dbl&gt; | X497.1717_5.05_6 &lt;dbl&gt; | X307.1124_1.45_7 &lt;dbl&gt; | X783.3523_1.36_8 &lt;dbl&gt; | X277.2174_1.15_9 &lt;dbl&gt; | ... ... | X118.9421_8.84_719 &lt;dbl&gt; | X184.8586_6.52_722 &lt;dbl&gt; | X210.8424_2.5_723 &lt;dbl&gt; | X212.0751_11.97_726 &lt;dbl&gt; | X245.0546_6.32_728 &lt;dbl&gt; | X152.8806_2.07_730 &lt;dbl&gt; | X112.9857_6.93_734 &lt;dbl&gt; | X246.0573_4.47_736 &lt;dbl&gt; | X246.0573_4.13_737 &lt;dbl&gt; | X212.0751_10.45_740 &lt;dbl&gt; |\n",
       "|---|---|---|---|---|---|---|---|---|---|---|---|---|---|---|---|---|---|---|---|---|---|\n",
       "| 1 | SampleB3 | 0.08467591 | 0.05174543 | 7.858401e-02 | 0.02124733 | 0.03478147 | 5.578356e-02 | 0.02383133 | 0.011127700 | 0.010856360 | ... | 0.0000000000 | 0.0000000000 | 0.000000000 | 0.0000000000 | 0.000000e+00 | 0.000000e+00 | 0.000000000 | 0.000000000 | 0.000000000 | 0.000000000 |\n",
       "| 2 | SampleB4 | 0.09763448 | 0.07680741 | 1.002592e-01 | 0.01274640 | 0.00000000 | 4.876361e-02 | 0.02257547 | 0.006292860 | 0.011635870 | ... | 0.0000000000 | 0.0000000000 | 0.000000000 | 0.0000000000 | 0.000000e+00 | 0.000000e+00 | 0.000000000 | 0.000000000 | 0.000000000 | 0.000000000 |\n",
       "| 3 | SampleB5 | 0.09633782 | 0.05373095 | 2.023849e-05 | 0.01305176 | 0.00000000 | 5.844279e-05 | 0.00000000 | 0.006540454 | 0.000000000 | ... | 0.0000000000 | 0.0000000000 | 0.000000000 | 0.0000000000 | 0.000000e+00 | 0.000000e+00 | 0.000000000 | 0.000000000 | 0.000000000 | 0.000000000 |\n",
       "| 4 | SampleB2 | 0.06999471 | 0.05893756 | 1.173058e-01 | 0.01053842 | 0.00000000 | 0.000000e+00 | 0.01977300 | 0.004336383 | 0.005285657 | ... | 0.0004270462 | 0.0010981930 | 0.001203776 | 0.0006102965 | 1.382095e-05 | 1.232620e-05 | 0.000000000 | 0.000000000 | 0.000000000 | 0.000000000 |\n",
       "| 5 | SampleB1 | 0.08281807 | 0.04886171 | 5.897701e-02 | 0.01721257 | 0.02253764 | 8.800301e-02 | 0.00000000 | 0.005830865 | 0.009354129 | ... | 0.0003728453 | 0.0002251345 | 0.001601254 | 0.0009127267 | 6.674082e-05 | 2.616419e-05 | 0.001719821 | 0.003357335 | 0.001841044 | 0.001059833 |\n",
       "\n"
      ],
      "text/plain": [
       "  sampleid X255.233_1.32_1 X283.2643_1.3_2 X475.1898_5.06_3 X477.2102_1.29_4\n",
       "1 SampleB3 0.08467591      0.05174543      7.858401e-02     0.02124733      \n",
       "2 SampleB4 0.09763448      0.07680741      1.002592e-01     0.01274640      \n",
       "3 SampleB5 0.09633782      0.05373095      2.023849e-05     0.01305176      \n",
       "4 SampleB2 0.06999471      0.05893756      1.173058e-01     0.01053842      \n",
       "5 SampleB1 0.08281807      0.04886171      5.897701e-02     0.01721257      \n",
       "  X218.1034_4.27_5 X497.1717_5.05_6 X307.1124_1.45_7 X783.3523_1.36_8\n",
       "1 0.03478147       5.578356e-02     0.02383133       0.011127700     \n",
       "2 0.00000000       4.876361e-02     0.02257547       0.006292860     \n",
       "3 0.00000000       5.844279e-05     0.00000000       0.006540454     \n",
       "4 0.00000000       0.000000e+00     0.01977300       0.004336383     \n",
       "5 0.02253764       8.800301e-02     0.00000000       0.005830865     \n",
       "  X277.2174_1.15_9 ... X118.9421_8.84_719 X184.8586_6.52_722 X210.8424_2.5_723\n",
       "1 0.010856360      ... 0.0000000000       0.0000000000       0.000000000      \n",
       "2 0.011635870      ... 0.0000000000       0.0000000000       0.000000000      \n",
       "3 0.000000000      ... 0.0000000000       0.0000000000       0.000000000      \n",
       "4 0.005285657      ... 0.0004270462       0.0010981930       0.001203776      \n",
       "5 0.009354129      ... 0.0003728453       0.0002251345       0.001601254      \n",
       "  X212.0751_11.97_726 X245.0546_6.32_728 X152.8806_2.07_730 X112.9857_6.93_734\n",
       "1 0.0000000000        0.000000e+00       0.000000e+00       0.000000000       \n",
       "2 0.0000000000        0.000000e+00       0.000000e+00       0.000000000       \n",
       "3 0.0000000000        0.000000e+00       0.000000e+00       0.000000000       \n",
       "4 0.0006102965        1.382095e-05       1.232620e-05       0.000000000       \n",
       "5 0.0009127267        6.674082e-05       2.616419e-05       0.001719821       \n",
       "  X246.0573_4.47_736 X246.0573_4.13_737 X212.0751_10.45_740\n",
       "1 0.000000000        0.000000000        0.000000000        \n",
       "2 0.000000000        0.000000000        0.000000000        \n",
       "3 0.000000000        0.000000000        0.000000000        \n",
       "4 0.000000000        0.000000000        0.000000000        \n",
       "5 0.003357335        0.001841044        0.001059833        "
      ]
     },
     "metadata": {},
     "output_type": "display_data"
    }
   ],
   "source": [
    "#print for checking you have the groups you want\n",
    "metadata_filtered\n",
    "featTable_filtered"
   ]
  },
  {
   "cell_type": "code",
   "execution_count": 39,
   "id": "ebd65867-53b4-46da-b601-ac57fb334006",
   "metadata": {},
   "outputs": [],
   "source": [
    "###exporting\n",
    "#for Qiime format             \n",
    "write.table(featTable_filtered, \"subset_featlist.txt\", row.names = FALSE, sep = \"\\t\", na=\"\")\n",
    "write.table(metadata_filtered, \"subset_metadata.txt\", row.names = FALSE, sep = \"\\t\", na=\"\")"
   ]
  },
  {
   "cell_type": "code",
   "execution_count": 40,
   "id": "b8492a2b-a763-487e-ad93-df6804d9d199",
   "metadata": {},
   "outputs": [],
   "source": [
    "#for regular .csv\n",
    "write.csv(featTable_filtered, \"subset_featlist.csv\", row.names = FALSE) \n",
    "write.csv(metadata_filtered, \"subset_metadata.csv\", row.names = FALSE) "
   ]
  },
  {
   "cell_type": "code",
   "execution_count": null,
   "id": "a72ccc37-7778-4524-973a-1c98e7b159bf",
   "metadata": {},
   "outputs": [],
   "source": []
  }
 ],
 "metadata": {
  "kernelspec": {
   "display_name": "R",
   "language": "R",
   "name": "ir"
  },
  "language_info": {
   "codemirror_mode": "r",
   "file_extension": ".r",
   "mimetype": "text/x-r-source",
   "name": "R",
   "pygments_lexer": "r",
   "version": "4.1.3"
  }
 },
 "nbformat": 4,
 "nbformat_minor": 5
}
