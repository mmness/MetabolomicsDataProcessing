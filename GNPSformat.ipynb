{
 "cells": [
  {
   "cell_type": "code",
   "execution_count": 1,
   "id": "df553399-b052-474e-a192-6bf8d7fbe52b",
   "metadata": {},
   "outputs": [],
   "source": [
    "metadata<-read.csv(\"metadata.csv\", header = TRUE) #orginal .csv metadata, not qiime format\n",
    "featureTable<-read.csv(\"quant.csv\", header=TRUE)\n"
   ]
  },
  {
   "cell_type": "code",
   "execution_count": 2,
   "id": "f8b310aa-fa90-46a9-9c20-669947855528",
   "metadata": {},
   "outputs": [],
   "source": [
    "#correcting metadata\n",
    "add_cor_names <- function(df) {\n",
    "  colnames(df) <- ifelse(!grepl(\"^ATTRIBUTE_\", colnames(df)), paste0(\"ATTRIBUTE_\", colnames(df)), colnames(df))\n",
    "  colnames(df)[1] <- \"filename\"\n",
    "  return(df)\n",
    "}\n",
    "metadata_cor<-add_cor_names(metadata)\n",
    "metadata_cor$filename <- ifelse(grepl(\"\\\\.mzML$\", metadata_cor$filename), metadata_cor$filename, paste0(metadata_cor$filename, \".mzML\"))"
   ]
  },
  {
   "cell_type": "code",
   "execution_count": 3,
   "id": "ab53f682-fc16-46fe-a472-2101b6d6d9f4",
   "metadata": {},
   "outputs": [],
   "source": [
    "#correcting featlist\n",
    "names(featureTable)[1]<-\"row ID\"\n",
    "names(featureTable)[2]<-\"row m/z\"\n",
    "names(featureTable)[3]<- \"row retention time\"\n",
    "names(featureTable)<-gsub(\".mzML.Peak.area\",\".mzML Peak area\", names(featureTable)) #potentially need to change to .mzXML       "
   ]
  },
  {
   "cell_type": "code",
   "execution_count": 4,
   "id": "e38a99fb-32b4-4976-942e-8d04373ee134",
   "metadata": {},
   "outputs": [],
   "source": [
    "write.csv(featureTable, \"GNPSfeattable.csv\", row.names = FALSE)\n",
    "write.table(metadata_cor, \"GNPSmetadata.txt\", row.names = FALSE, sep = \"\\t\", na=\"\")"
   ]
  },
  {
   "cell_type": "code",
   "execution_count": null,
   "id": "485cb9ac-d216-4878-9119-ed5f16fe35ca",
   "metadata": {},
   "outputs": [],
   "source": []
  }
 ],
 "metadata": {
  "kernelspec": {
   "display_name": "R",
   "language": "R",
   "name": "ir"
  },
  "language_info": {
   "codemirror_mode": "r",
   "file_extension": ".r",
   "mimetype": "text/x-r-source",
   "name": "R",
   "pygments_lexer": "r",
   "version": "4.1.3"
  }
 },
 "nbformat": 4,
 "nbformat_minor": 5
}
