{
 "cells": [
  {
   "cell_type": "code",
   "execution_count": 13,
   "id": "4cb51c6d",
   "metadata": {},
   "outputs": [],
   "source": [
    "tab<-read.csv(\"quant.csv\", header=TRUE) \n",
    "\n",
    "l<-3 #degree of removal wanted"
   ]
  },
  {
   "cell_type": "code",
   "execution_count": 14,
   "id": "c8a07c2b-30a3-4e80-9e4b-6be070cb000a",
   "metadata": {},
   "outputs": [
    {
     "name": "stdout",
     "output_type": "stream",
     "text": [
      "[1] \"Blank_reg.mzML.Peak.area\"\n"
     ]
    }
   ],
   "source": [
    "blanknames<-\"blank|Blank|BLANK|bnk|BNK\" #Change depending on your blank names. Case sensitive\n",
    "print(names(tab)[grep(blanknames, colnames(tab))]) #test to make sure your blanks are IDed"
   ]
  },
  {
   "cell_type": "code",
   "execution_count": 15,
   "id": "372345cd-4510-40c5-bd8b-6fbdaa91a2b6",
   "metadata": {},
   "outputs": [],
   "source": [
    "#dont change anything here\n",
    "tab <- tab[, names(tab) != \"X\"]\n",
    "fcount <- c()\n",
    "for(i in 1:nrow(tab)) {\n",
    "  bmax <- max(tab[i, grep(blanknames, colnames(tab))])\n",
    "  if(bmax==0) {\n",
    "    fcount <- c(fcount, 1 )\n",
    "  } else {\n",
    "    fcount <- c(fcount, sum(tab[i, -grep(blanknames, colnames(tab))][,-1|-2|-3] > l*bmax) ) \n",
    "  }\n",
    "}"
   ]
  },
  {
   "cell_type": "code",
   "execution_count": 16,
   "id": "0876655d-f313-4b14-8854-7831b3e59dba",
   "metadata": {},
   "outputs": [
    {
     "name": "stdout",
     "output_type": "stream",
     "text": [
      "number of features removed: 45 \n"
     ]
    }
   ],
   "source": [
    "num_removed<-nrow(tab)-nrow(tab[-which(fcount==0),])\n",
    "cat(\"number of features removed:\", num_removed, \"\\n\") #prints how many are removed"
   ]
  },
  {
   "cell_type": "code",
   "execution_count": 17,
   "id": "7661431e-e208-4353-83ed-cd69018cf9dd",
   "metadata": {},
   "outputs": [],
   "source": [
    "write.csv(tab[-which(fcount==0),], \"quant_blankremoved.csv\", row.names=FALSE) #change name to what you want but keep the .csv"
   ]
  },
  {
   "cell_type": "code",
   "execution_count": null,
   "id": "226dbf81-c67e-43a2-b579-a46080a89765",
   "metadata": {},
   "outputs": [],
   "source": []
  }
 ],
 "metadata": {
  "kernelspec": {
   "display_name": "R",
   "language": "R",
   "name": "ir"
  },
  "language_info": {
   "codemirror_mode": "r",
   "file_extension": ".r",
   "mimetype": "text/x-r-source",
   "name": "R",
   "pygments_lexer": "r",
   "version": "4.1.3"
  }
 },
 "nbformat": 4,
 "nbformat_minor": 5
}
